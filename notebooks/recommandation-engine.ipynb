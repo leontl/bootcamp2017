{
 "cells": [
  {
   "cell_type": "code",
   "execution_count": 1,
   "metadata": {},
   "outputs": [],
   "source": [
    "from matplotlib import pyplot as plt\n",
    "import pandas as pd\n",
    "%matplotlib inline"
   ]
  },
  {
   "cell_type": "markdown",
   "metadata": {},
   "source": [
    "# Exploration"
   ]
  },
  {
   "cell_type": "code",
   "execution_count": 2,
   "metadata": {},
   "outputs": [
    {
     "data": {
      "text/html": [
       "<div>\n",
       "<style>\n",
       "    .dataframe thead tr:only-child th {\n",
       "        text-align: right;\n",
       "    }\n",
       "\n",
       "    .dataframe thead th {\n",
       "        text-align: left;\n",
       "    }\n",
       "\n",
       "    .dataframe tbody tr th {\n",
       "        vertical-align: top;\n",
       "    }\n",
       "</style>\n",
       "<table border=\"1\" class=\"dataframe\">\n",
       "  <thead>\n",
       "    <tr style=\"text-align: right;\">\n",
       "      <th></th>\n",
       "      <th>feedback</th>\n",
       "      <th>name</th>\n",
       "      <th>question</th>\n",
       "      <th>round</th>\n",
       "      <th>best_of_name</th>\n",
       "      <th>model_id</th>\n",
       "      <th>user_id</th>\n",
       "      <th>x_questions</th>\n",
       "    </tr>\n",
       "  </thead>\n",
       "  <tbody>\n",
       "    <tr>\n",
       "      <th>0</th>\n",
       "      <td>-1</td>\n",
       "      <td>Lio</td>\n",
       "      <td>1</td>\n",
       "      <td>1</td>\n",
       "      <td>False</td>\n",
       "      <td>3dxqYZDIqnnbnJRwd9xF</td>\n",
       "      <td>x7cU2PT7nm4vlv41PTd4</td>\n",
       "      <td>20</td>\n",
       "    </tr>\n",
       "    <tr>\n",
       "      <th>1</th>\n",
       "      <td>-1</td>\n",
       "      <td>Sara</td>\n",
       "      <td>1</td>\n",
       "      <td>1</td>\n",
       "      <td>False</td>\n",
       "      <td>3dxqYZDIqnnbnJRwd9xF</td>\n",
       "      <td>x7cU2PT7nm4vlv41PTd4</td>\n",
       "      <td>20</td>\n",
       "    </tr>\n",
       "    <tr>\n",
       "      <th>2</th>\n",
       "      <td>3</td>\n",
       "      <td>Marilou</td>\n",
       "      <td>1</td>\n",
       "      <td>1</td>\n",
       "      <td>False</td>\n",
       "      <td>3dxqYZDIqnnbnJRwd9xF</td>\n",
       "      <td>x7cU2PT7nm4vlv41PTd4</td>\n",
       "      <td>20</td>\n",
       "    </tr>\n",
       "    <tr>\n",
       "      <th>3</th>\n",
       "      <td>-1</td>\n",
       "      <td>Chloé</td>\n",
       "      <td>1</td>\n",
       "      <td>1</td>\n",
       "      <td>False</td>\n",
       "      <td>3dxqYZDIqnnbnJRwd9xF</td>\n",
       "      <td>x7cU2PT7nm4vlv41PTd4</td>\n",
       "      <td>20</td>\n",
       "    </tr>\n",
       "    <tr>\n",
       "      <th>4</th>\n",
       "      <td>-1</td>\n",
       "      <td>Iluna</td>\n",
       "      <td>2</td>\n",
       "      <td>1</td>\n",
       "      <td>False</td>\n",
       "      <td>3dxqYZDIqnnbnJRwd9xF</td>\n",
       "      <td>x7cU2PT7nm4vlv41PTd4</td>\n",
       "      <td>20</td>\n",
       "    </tr>\n",
       "    <tr>\n",
       "      <th>5</th>\n",
       "      <td>3</td>\n",
       "      <td>Mira</td>\n",
       "      <td>2</td>\n",
       "      <td>1</td>\n",
       "      <td>False</td>\n",
       "      <td>3dxqYZDIqnnbnJRwd9xF</td>\n",
       "      <td>x7cU2PT7nm4vlv41PTd4</td>\n",
       "      <td>20</td>\n",
       "    </tr>\n",
       "    <tr>\n",
       "      <th>6</th>\n",
       "      <td>-1</td>\n",
       "      <td>Zoë</td>\n",
       "      <td>2</td>\n",
       "      <td>1</td>\n",
       "      <td>False</td>\n",
       "      <td>3dxqYZDIqnnbnJRwd9xF</td>\n",
       "      <td>x7cU2PT7nm4vlv41PTd4</td>\n",
       "      <td>20</td>\n",
       "    </tr>\n",
       "    <tr>\n",
       "      <th>7</th>\n",
       "      <td>-1</td>\n",
       "      <td>Helena</td>\n",
       "      <td>2</td>\n",
       "      <td>1</td>\n",
       "      <td>False</td>\n",
       "      <td>3dxqYZDIqnnbnJRwd9xF</td>\n",
       "      <td>x7cU2PT7nm4vlv41PTd4</td>\n",
       "      <td>20</td>\n",
       "    </tr>\n",
       "    <tr>\n",
       "      <th>8</th>\n",
       "      <td>-1</td>\n",
       "      <td>June</td>\n",
       "      <td>3</td>\n",
       "      <td>1</td>\n",
       "      <td>False</td>\n",
       "      <td>3dxqYZDIqnnbnJRwd9xF</td>\n",
       "      <td>x7cU2PT7nm4vlv41PTd4</td>\n",
       "      <td>20</td>\n",
       "    </tr>\n",
       "    <tr>\n",
       "      <th>9</th>\n",
       "      <td>3</td>\n",
       "      <td>Léa</td>\n",
       "      <td>3</td>\n",
       "      <td>1</td>\n",
       "      <td>True</td>\n",
       "      <td>3dxqYZDIqnnbnJRwd9xF</td>\n",
       "      <td>x7cU2PT7nm4vlv41PTd4</td>\n",
       "      <td>20</td>\n",
       "    </tr>\n",
       "  </tbody>\n",
       "</table>\n",
       "</div>"
      ],
      "text/plain": [
       "   feedback     name  question  round  best_of_name              model_id  \\\n",
       "0        -1      Lio         1      1         False  3dxqYZDIqnnbnJRwd9xF   \n",
       "1        -1     Sara         1      1         False  3dxqYZDIqnnbnJRwd9xF   \n",
       "2         3  Marilou         1      1         False  3dxqYZDIqnnbnJRwd9xF   \n",
       "3        -1    Chloé         1      1         False  3dxqYZDIqnnbnJRwd9xF   \n",
       "4        -1    Iluna         2      1         False  3dxqYZDIqnnbnJRwd9xF   \n",
       "5         3     Mira         2      1         False  3dxqYZDIqnnbnJRwd9xF   \n",
       "6        -1      Zoë         2      1         False  3dxqYZDIqnnbnJRwd9xF   \n",
       "7        -1   Helena         2      1         False  3dxqYZDIqnnbnJRwd9xF   \n",
       "8        -1     June         3      1         False  3dxqYZDIqnnbnJRwd9xF   \n",
       "9         3      Léa         3      1          True  3dxqYZDIqnnbnJRwd9xF   \n",
       "\n",
       "                user_id  x_questions  \n",
       "0  x7cU2PT7nm4vlv41PTd4           20  \n",
       "1  x7cU2PT7nm4vlv41PTd4           20  \n",
       "2  x7cU2PT7nm4vlv41PTd4           20  \n",
       "3  x7cU2PT7nm4vlv41PTd4           20  \n",
       "4  x7cU2PT7nm4vlv41PTd4           20  \n",
       "5  x7cU2PT7nm4vlv41PTd4           20  \n",
       "6  x7cU2PT7nm4vlv41PTd4           20  \n",
       "7  x7cU2PT7nm4vlv41PTd4           20  \n",
       "8  x7cU2PT7nm4vlv41PTd4           20  \n",
       "9  x7cU2PT7nm4vlv41PTd4           20  "
      ]
     },
     "execution_count": 2,
     "metadata": {},
     "output_type": "execute_result"
    }
   ],
   "source": [
    "df = pd.read_csv('../data/digitiser_dataset.csv', index_col=0)\n",
    "df = df[df['x_questions']==20]\n",
    "df.head(10)"
   ]
  },
  {
   "cell_type": "code",
   "execution_count": 3,
   "metadata": {},
   "outputs": [
    {
     "data": {
      "text/plain": [
       "Anna     3164\n",
       "Zoé      3071\n",
       "Lou      2898\n",
       "Laura    2897\n",
       "Elize    2894\n",
       "Name: name, dtype: int64"
      ]
     },
     "execution_count": 3,
     "metadata": {},
     "output_type": "execute_result"
    }
   ],
   "source": [
    "views = df['name'].value_counts()\n",
    "views.head()"
   ]
  },
  {
   "cell_type": "code",
   "execution_count": 4,
   "metadata": {},
   "outputs": [
    {
     "data": {
      "text/plain": [
       "Anna    1224\n",
       "Lou     1205\n",
       "Nora    1203\n",
       "Lili    1159\n",
       "Ella    1112\n",
       "Name: name, dtype: int64"
      ]
     },
     "execution_count": 4,
     "metadata": {},
     "output_type": "execute_result"
    }
   ],
   "source": [
    "clicks = df.loc[df['feedback']==3,'name'].value_counts()\n",
    "clicks.head()"
   ]
  },
  {
   "cell_type": "code",
   "execution_count": 5,
   "metadata": {},
   "outputs": [
    {
     "data": {
      "text/html": [
       "<div>\n",
       "<style>\n",
       "    .dataframe thead tr:only-child th {\n",
       "        text-align: right;\n",
       "    }\n",
       "\n",
       "    .dataframe thead th {\n",
       "        text-align: left;\n",
       "    }\n",
       "\n",
       "    .dataframe tbody tr th {\n",
       "        vertical-align: top;\n",
       "    }\n",
       "</style>\n",
       "<table border=\"1\" class=\"dataframe\">\n",
       "  <thead>\n",
       "    <tr style=\"text-align: right;\">\n",
       "      <th></th>\n",
       "      <th>clicks</th>\n",
       "      <th>clicks_per_view</th>\n",
       "      <th>views</th>\n",
       "    </tr>\n",
       "  </thead>\n",
       "  <tbody>\n",
       "    <tr>\n",
       "      <th>Charlie</th>\n",
       "      <td>1.0</td>\n",
       "      <td>1.000000</td>\n",
       "      <td>1</td>\n",
       "    </tr>\n",
       "    <tr>\n",
       "      <th>Minne</th>\n",
       "      <td>2.0</td>\n",
       "      <td>0.666667</td>\n",
       "      <td>3</td>\n",
       "    </tr>\n",
       "    <tr>\n",
       "      <th>Annabelle</th>\n",
       "      <td>2.0</td>\n",
       "      <td>0.666667</td>\n",
       "      <td>3</td>\n",
       "    </tr>\n",
       "    <tr>\n",
       "      <th>Ella</th>\n",
       "      <td>1112.0</td>\n",
       "      <td>0.555445</td>\n",
       "      <td>2002</td>\n",
       "    </tr>\n",
       "    <tr>\n",
       "      <th>Nore</th>\n",
       "      <td>501.0</td>\n",
       "      <td>0.524059</td>\n",
       "      <td>956</td>\n",
       "    </tr>\n",
       "  </tbody>\n",
       "</table>\n",
       "</div>"
      ],
      "text/plain": [
       "           clicks  clicks_per_view  views\n",
       "Charlie       1.0         1.000000      1\n",
       "Minne         2.0         0.666667      3\n",
       "Annabelle     2.0         0.666667      3\n",
       "Ella       1112.0         0.555445   2002\n",
       "Nore        501.0         0.524059    956"
      ]
     },
     "execution_count": 5,
     "metadata": {},
     "output_type": "execute_result"
    }
   ],
   "source": [
    "clicks_per_view = clicks / views\n",
    "name_df = pd.DataFrame({'clicks':clicks, 'views':views, 'clicks_per_view':clicks_per_view})\n",
    "name_df.sort_values('clicks_per_view', ascending=False).head()"
   ]
  },
  {
   "cell_type": "code",
   "execution_count": 6,
   "metadata": {},
   "outputs": [
    {
     "data": {
      "text/plain": [
       "<matplotlib.axes._subplots.AxesSubplot at 0x11a8b70b8>"
      ]
     },
     "execution_count": 6,
     "metadata": {},
     "output_type": "execute_result"
    },
    {
     "data": {
      "image/png": "[encoded data removed]",
      "text/plain": [
       "<matplotlib.figure.Figure at 0x11a8d6f28>"
      ]
     },
     "metadata": {},
     "output_type": "display_data"
    }
   ],
   "source": [
    "name_df['clicks'].hist(bins=20)"
   ]
  },
  {
   "cell_type": "code",
   "execution_count": 7,
   "metadata": {},
   "outputs": [
    {
     "data": {
      "text/plain": [
       "<matplotlib.axes._subplots.AxesSubplot at 0x1177b0eb8>"
      ]
     },
     "execution_count": 7,
     "metadata": {},
     "output_type": "execute_result"
    },
    {
     "data": {
      "image/png": "[encoded data removed]",
      "text/plain": [
       "<matplotlib.figure.Figure at 0x10d166a20>"
      ]
     },
     "metadata": {},
     "output_type": "display_data"
    }
   ],
   "source": [
    "name_df['views'].hist(bins=20)"
   ]
  },
  {
   "cell_type": "code",
   "execution_count": 8,
   "metadata": {},
   "outputs": [
    {
     "data": {
      "text/plain": [
       "<matplotlib.collections.PathCollection at 0x10d22d358>"
      ]
     },
     "execution_count": 8,
     "metadata": {},
     "output_type": "execute_result"
    },
    {
     "data": {
      "image/png": "[encoded data removed]",
      "text/plain": [
       "<matplotlib.figure.Figure at 0x10d1be710>"
      ]
     },
     "metadata": {},
     "output_type": "display_data"
    }
   ],
   "source": [
    "plt.scatter(name_df['views'], name_df['clicks'])"
   ]
  },
  {
   "cell_type": "markdown",
   "metadata": {},
   "source": [
    "# Baseline"
   ]
  },
  {
   "cell_type": "code",
   "execution_count": 9,
   "metadata": {},
   "outputs": [
    {
     "data": {
      "text/html": [
       "<div>\n",
       "<style>\n",
       "    .dataframe thead tr:only-child th {\n",
       "        text-align: right;\n",
       "    }\n",
       "\n",
       "    .dataframe thead th {\n",
       "        text-align: left;\n",
       "    }\n",
       "\n",
       "    .dataframe tbody tr th {\n",
       "        vertical-align: top;\n",
       "    }\n",
       "</style>\n",
       "<table border=\"1\" class=\"dataframe\">\n",
       "  <thead>\n",
       "    <tr style=\"text-align: right;\">\n",
       "      <th></th>\n",
       "      <th>name</th>\n",
       "      <th>sex</th>\n",
       "      <th>region</th>\n",
       "      <th>year_1995</th>\n",
       "      <th>year_1996</th>\n",
       "      <th>year_1997</th>\n",
       "      <th>year_1998</th>\n",
       "      <th>year_1999</th>\n",
       "      <th>year_2000</th>\n",
       "      <th>year_2001</th>\n",
       "      <th>...</th>\n",
       "      <th>year_2007</th>\n",
       "      <th>year_2008</th>\n",
       "      <th>year_2009</th>\n",
       "      <th>year_2010</th>\n",
       "      <th>year_2011</th>\n",
       "      <th>year_2012</th>\n",
       "      <th>year_2013</th>\n",
       "      <th>year_2014</th>\n",
       "      <th>year_2015</th>\n",
       "      <th>year_2016</th>\n",
       "    </tr>\n",
       "  </thead>\n",
       "  <tbody>\n",
       "    <tr>\n",
       "      <th>0</th>\n",
       "      <td>Aagje</td>\n",
       "      <td>F</td>\n",
       "      <td>Vlaanderen</td>\n",
       "      <td>0.0</td>\n",
       "      <td>10.0</td>\n",
       "      <td>7.0</td>\n",
       "      <td>6.0</td>\n",
       "      <td>5.0</td>\n",
       "      <td>0.0</td>\n",
       "      <td>12.0</td>\n",
       "      <td>...</td>\n",
       "      <td>10.0</td>\n",
       "      <td>11.0</td>\n",
       "      <td>12.0</td>\n",
       "      <td>11.0</td>\n",
       "      <td>8.0</td>\n",
       "      <td>11.0</td>\n",
       "      <td>7.0</td>\n",
       "      <td>0.0</td>\n",
       "      <td>0.0</td>\n",
       "      <td>0.0</td>\n",
       "    </tr>\n",
       "    <tr>\n",
       "      <th>1</th>\n",
       "      <td>Aaliyah</td>\n",
       "      <td>F</td>\n",
       "      <td>Vlaanderen</td>\n",
       "      <td>0.0</td>\n",
       "      <td>0.0</td>\n",
       "      <td>0.0</td>\n",
       "      <td>0.0</td>\n",
       "      <td>0.0</td>\n",
       "      <td>0.0</td>\n",
       "      <td>5.0</td>\n",
       "      <td>...</td>\n",
       "      <td>8.0</td>\n",
       "      <td>7.0</td>\n",
       "      <td>14.0</td>\n",
       "      <td>9.0</td>\n",
       "      <td>9.0</td>\n",
       "      <td>7.0</td>\n",
       "      <td>10.0</td>\n",
       "      <td>11.0</td>\n",
       "      <td>8.0</td>\n",
       "      <td>13.0</td>\n",
       "    </tr>\n",
       "    <tr>\n",
       "      <th>2</th>\n",
       "      <td>Abigail</td>\n",
       "      <td>F</td>\n",
       "      <td>Vlaanderen</td>\n",
       "      <td>0.0</td>\n",
       "      <td>0.0</td>\n",
       "      <td>8.0</td>\n",
       "      <td>0.0</td>\n",
       "      <td>0.0</td>\n",
       "      <td>0.0</td>\n",
       "      <td>5.0</td>\n",
       "      <td>...</td>\n",
       "      <td>0.0</td>\n",
       "      <td>6.0</td>\n",
       "      <td>7.0</td>\n",
       "      <td>8.0</td>\n",
       "      <td>16.0</td>\n",
       "      <td>11.0</td>\n",
       "      <td>10.0</td>\n",
       "      <td>10.0</td>\n",
       "      <td>11.0</td>\n",
       "      <td>12.0</td>\n",
       "    </tr>\n",
       "    <tr>\n",
       "      <th>3</th>\n",
       "      <td>Ada</td>\n",
       "      <td>F</td>\n",
       "      <td>Vlaanderen</td>\n",
       "      <td>0.0</td>\n",
       "      <td>0.0</td>\n",
       "      <td>0.0</td>\n",
       "      <td>0.0</td>\n",
       "      <td>5.0</td>\n",
       "      <td>0.0</td>\n",
       "      <td>6.0</td>\n",
       "      <td>...</td>\n",
       "      <td>12.0</td>\n",
       "      <td>19.0</td>\n",
       "      <td>17.0</td>\n",
       "      <td>20.0</td>\n",
       "      <td>24.0</td>\n",
       "      <td>19.0</td>\n",
       "      <td>28.0</td>\n",
       "      <td>32.0</td>\n",
       "      <td>35.0</td>\n",
       "      <td>27.0</td>\n",
       "    </tr>\n",
       "    <tr>\n",
       "      <th>4</th>\n",
       "      <td>Adeline</td>\n",
       "      <td>F</td>\n",
       "      <td>Vlaanderen</td>\n",
       "      <td>15.0</td>\n",
       "      <td>10.0</td>\n",
       "      <td>11.0</td>\n",
       "      <td>0.0</td>\n",
       "      <td>0.0</td>\n",
       "      <td>0.0</td>\n",
       "      <td>0.0</td>\n",
       "      <td>...</td>\n",
       "      <td>0.0</td>\n",
       "      <td>0.0</td>\n",
       "      <td>0.0</td>\n",
       "      <td>5.0</td>\n",
       "      <td>6.0</td>\n",
       "      <td>8.0</td>\n",
       "      <td>0.0</td>\n",
       "      <td>8.0</td>\n",
       "      <td>0.0</td>\n",
       "      <td>12.0</td>\n",
       "    </tr>\n",
       "  </tbody>\n",
       "</table>\n",
       "<p>5 rows × 25 columns</p>\n",
       "</div>"
      ],
      "text/plain": [
       "      name sex      region  year_1995  year_1996  year_1997  year_1998  \\\n",
       "0    Aagje   F  Vlaanderen        0.0       10.0        7.0        6.0   \n",
       "1  Aaliyah   F  Vlaanderen        0.0        0.0        0.0        0.0   \n",
       "2  Abigail   F  Vlaanderen        0.0        0.0        8.0        0.0   \n",
       "3      Ada   F  Vlaanderen        0.0        0.0        0.0        0.0   \n",
       "4  Adeline   F  Vlaanderen       15.0       10.0       11.0        0.0   \n",
       "\n",
       "   year_1999  year_2000  year_2001    ...      year_2007  year_2008  \\\n",
       "0        5.0        0.0       12.0    ...           10.0       11.0   \n",
       "1        0.0        0.0        5.0    ...            8.0        7.0   \n",
       "2        0.0        0.0        5.0    ...            0.0        6.0   \n",
       "3        5.0        0.0        6.0    ...           12.0       19.0   \n",
       "4        0.0        0.0        0.0    ...            0.0        0.0   \n",
       "\n",
       "   year_2009  year_2010  year_2011  year_2012  year_2013  year_2014  \\\n",
       "0       12.0       11.0        8.0       11.0        7.0        0.0   \n",
       "1       14.0        9.0        9.0        7.0       10.0       11.0   \n",
       "2        7.0        8.0       16.0       11.0       10.0       10.0   \n",
       "3       17.0       20.0       24.0       19.0       28.0       32.0   \n",
       "4        0.0        5.0        6.0        8.0        0.0        8.0   \n",
       "\n",
       "   year_2015  year_2016  \n",
       "0        0.0        0.0  \n",
       "1        8.0       13.0  \n",
       "2       11.0       12.0  \n",
       "3       35.0       27.0  \n",
       "4        0.0       12.0  \n",
       "\n",
       "[5 rows x 25 columns]"
      ]
     },
     "execution_count": 9,
     "metadata": {},
     "output_type": "execute_result"
    }
   ],
   "source": [
    "popularity = pd.read_csv('../data/popularity.csv')\n",
    "popularity.head()"
   ]
  },
  {
   "cell_type": "code",
   "execution_count": 10,
   "metadata": {},
   "outputs": [
    {
     "data": {
      "text/plain": [
       "0     3dxqYZDIqnnbnJRwd9xF_1\n",
       "1     3dxqYZDIqnnbnJRwd9xF_1\n",
       "2     3dxqYZDIqnnbnJRwd9xF_1\n",
       "3     3dxqYZDIqnnbnJRwd9xF_1\n",
       "4     3dxqYZDIqnnbnJRwd9xF_2\n",
       "5     3dxqYZDIqnnbnJRwd9xF_2\n",
       "6     3dxqYZDIqnnbnJRwd9xF_2\n",
       "7     3dxqYZDIqnnbnJRwd9xF_2\n",
       "8     3dxqYZDIqnnbnJRwd9xF_3\n",
       "9     3dxqYZDIqnnbnJRwd9xF_3\n",
       "10    3dxqYZDIqnnbnJRwd9xF_3\n",
       "11    3dxqYZDIqnnbnJRwd9xF_3\n",
       "Name: question_id, dtype: object"
      ]
     },
     "execution_count": 10,
     "metadata": {},
     "output_type": "execute_result"
    }
   ],
   "source": [
    "df['question_id'] = df['model_id'] + '_' + df['question'].astype(str)\n",
    "df['question_id'].head(12)"
   ]
  },
  {
   "cell_type": "code",
   "execution_count": 11,
   "metadata": {},
   "outputs": [],
   "source": [
    "most_popular = (\n",
    "    pd.merge(\n",
    "        df, \n",
    "        popularity, \n",
    "        left_on = 'name', \n",
    "        right_on = 'name')\n",
    "     .sort_values('year_2016', ascending=False)\n",
    "     .groupby('question_id')['name'].first())\n",
    "clicked = df.sort_values('feedback', ascending=False).groupby('question_id')['name'].first()"
   ]
  },
  {
   "cell_type": "code",
   "execution_count": 12,
   "metadata": {},
   "outputs": [
    {
     "data": {
      "text/plain": [
       "question_id\n",
       "00329XrhSh1vtc7swjcP_1     Lucie\n",
       "00329XrhSh1vtc7swjcP_11    Emily\n",
       "00329XrhSh1vtc7swjcP_12     Lore\n",
       "00329XrhSh1vtc7swjcP_13     Emma\n",
       "00329XrhSh1vtc7swjcP_14     Ella\n",
       "Name: name, dtype: object"
      ]
     },
     "execution_count": 12,
     "metadata": {},
     "output_type": "execute_result"
    }
   ],
   "source": [
    "most_popular.head()"
   ]
  },
  {
   "cell_type": "code",
   "execution_count": 13,
   "metadata": {},
   "outputs": [
    {
     "data": {
      "text/plain": [
       "question_id\n",
       "00329XrhSh1vtc7swjcP_1        Mona\n",
       "00329XrhSh1vtc7swjcP_11    Paulien\n",
       "00329XrhSh1vtc7swjcP_12       Maya\n",
       "00329XrhSh1vtc7swjcP_13    Phaedra\n",
       "00329XrhSh1vtc7swjcP_14        Zoé\n",
       "Name: name, dtype: object"
      ]
     },
     "execution_count": 13,
     "metadata": {},
     "output_type": "execute_result"
    }
   ],
   "source": [
    "clicked.head()"
   ]
  },
  {
   "cell_type": "code",
   "execution_count": 14,
   "metadata": {},
   "outputs": [
    {
     "data": {
      "text/html": [
       "<div>\n",
       "<style>\n",
       "    .dataframe thead tr:only-child th {\n",
       "        text-align: right;\n",
       "    }\n",
       "\n",
       "    .dataframe thead th {\n",
       "        text-align: left;\n",
       "    }\n",
       "\n",
       "    .dataframe tbody tr th {\n",
       "        vertical-align: top;\n",
       "    }\n",
       "</style>\n",
       "<table border=\"1\" class=\"dataframe\">\n",
       "  <thead>\n",
       "    <tr style=\"text-align: right;\">\n",
       "      <th></th>\n",
       "      <th>clicked</th>\n",
       "      <th>most_popular</th>\n",
       "    </tr>\n",
       "    <tr>\n",
       "      <th>question_id</th>\n",
       "      <th></th>\n",
       "      <th></th>\n",
       "    </tr>\n",
       "  </thead>\n",
       "  <tbody>\n",
       "    <tr>\n",
       "      <th>00329XrhSh1vtc7swjcP_1</th>\n",
       "      <td>Mona</td>\n",
       "      <td>Lucie</td>\n",
       "    </tr>\n",
       "    <tr>\n",
       "      <th>00329XrhSh1vtc7swjcP_11</th>\n",
       "      <td>Paulien</td>\n",
       "      <td>Emily</td>\n",
       "    </tr>\n",
       "    <tr>\n",
       "      <th>00329XrhSh1vtc7swjcP_12</th>\n",
       "      <td>Maya</td>\n",
       "      <td>Lore</td>\n",
       "    </tr>\n",
       "    <tr>\n",
       "      <th>00329XrhSh1vtc7swjcP_13</th>\n",
       "      <td>Phaedra</td>\n",
       "      <td>Emma</td>\n",
       "    </tr>\n",
       "    <tr>\n",
       "      <th>00329XrhSh1vtc7swjcP_14</th>\n",
       "      <td>Zoé</td>\n",
       "      <td>Ella</td>\n",
       "    </tr>\n",
       "  </tbody>\n",
       "</table>\n",
       "</div>"
      ],
      "text/plain": [
       "                         clicked most_popular\n",
       "question_id                                  \n",
       "00329XrhSh1vtc7swjcP_1      Mona        Lucie\n",
       "00329XrhSh1vtc7swjcP_11  Paulien        Emily\n",
       "00329XrhSh1vtc7swjcP_12     Maya         Lore\n",
       "00329XrhSh1vtc7swjcP_13  Phaedra         Emma\n",
       "00329XrhSh1vtc7swjcP_14      Zoé         Ella"
      ]
     },
     "execution_count": 14,
     "metadata": {},
     "output_type": "execute_result"
    }
   ],
   "source": [
    "questions = pd.DataFrame({'most_popular':most_popular, 'clicked':clicked})\n",
    "questions.head()"
   ]
  },
  {
   "cell_type": "code",
   "execution_count": 15,
   "metadata": {},
   "outputs": [
    {
     "data": {
      "text/plain": [
       "0.36012228260869567"
      ]
     },
     "execution_count": 15,
     "metadata": {},
     "output_type": "execute_result"
    }
   ],
   "source": [
    "(questions['clicked'] == questions['most_popular']).mean()"
   ]
  },
  {
   "cell_type": "code",
   "execution_count": null,
   "metadata": {},
   "outputs": [],
   "source": []
  }
 ],
 "metadata": {
  "kernelspec": {
   "display_name": "Python 3",
   "language": "python",
   "name": "python3"
  },
  "language_info": {
   "codemirror_mode": {
    "name": "ipython",
    "version": 3
   },
   "file_extension": ".py",
   "mimetype": "text/x-python",
   "name": "python",
   "nbconvert_exporter": "python",
   "pygments_lexer": "ipython3",
   "version": "3.5.4"
  }
 },
 "nbformat": 4,
 "nbformat_minor": 1
}
